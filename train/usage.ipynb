{
 "cells": [
  {
   "cell_type": "code",
   "execution_count": 217,
   "metadata": {
    "collapsed": true,
    "ExecuteTime": {
     "end_time": "2023-05-14T09:28:16.221591200Z",
     "start_time": "2023-05-14T09:28:16.187431100Z"
    }
   },
   "outputs": [
    {
     "data": {
      "text/plain": "'2.0.2'"
     },
     "execution_count": 217,
     "metadata": {},
     "output_type": "execute_result"
    }
   ],
   "source": [
    "import torch\n",
    "import torchvision.transforms as T\n",
    "import lightning.pytorch as pl\n",
    "\n",
    "pl.__version__"
   ]
  },
  {
   "cell_type": "code",
   "execution_count": 218,
   "outputs": [],
   "source": [
    "# sets seeds for numpy, torch and python.random.\n",
    "# pl.seed_everything(42, workers=True)"
   ],
   "metadata": {
    "collapsed": false,
    "ExecuteTime": {
     "end_time": "2023-05-14T09:28:16.255330800Z",
     "start_time": "2023-05-14T09:28:16.196011300Z"
    }
   }
  },
  {
   "cell_type": "code",
   "execution_count": 219,
   "outputs": [],
   "source": [
    "torch.set_float32_matmul_precision('medium')"
   ],
   "metadata": {
    "collapsed": false,
    "ExecuteTime": {
     "end_time": "2023-05-14T09:28:16.261865900Z",
     "start_time": "2023-05-14T09:28:16.214075600Z"
    }
   }
  },
  {
   "cell_type": "code",
   "execution_count": 220,
   "outputs": [
    {
     "name": "stdout",
     "output_type": "stream",
     "text": [
      "Using device: cuda\n"
     ]
    }
   ],
   "source": [
    "# Setup device agnostic code\n",
    "device = \"cuda\" if torch.cuda.is_available() else \"cpu\"\n",
    "print(f\"Using device: {device}\")"
   ],
   "metadata": {
    "collapsed": false,
    "ExecuteTime": {
     "end_time": "2023-05-14T09:28:16.262856700Z",
     "start_time": "2023-05-14T09:28:16.229602100Z"
    }
   }
  },
  {
   "cell_type": "markdown",
   "source": [
    "# Transform"
   ],
   "metadata": {
    "collapsed": false
   }
  },
  {
   "cell_type": "code",
   "execution_count": 221,
   "outputs": [],
   "source": [
    "test_transform = T.Compose([\n",
    "    T.ToPILImage(),\n",
    "    T.ToTensor(),  # [0, 255] -> [0, 1]\n",
    "    T.Normalize(mean=(0.5, 0.5, 0.5), std=(0.5, 0.5, 0.5)) # [-0.5, 0.5] -> [-1, 1]\n",
    "])"
   ],
   "metadata": {
    "collapsed": false,
    "ExecuteTime": {
     "end_time": "2023-05-14T09:28:16.262856700Z",
     "start_time": "2023-05-14T09:28:16.245631600Z"
    }
   }
  },
  {
   "cell_type": "markdown",
   "source": [
    "# Load Model"
   ],
   "metadata": {
    "collapsed": false
   }
  },
  {
   "cell_type": "code",
   "execution_count": 222,
   "outputs": [
    {
     "data": {
      "text/plain": "LightningBabyHamiltonModel(\n  (model): BabyHamiltonModel(\n    (conv1): Conv2d(3, 24, kernel_size=(5, 5), stride=(2, 2))\n    (conv2): Conv2d(24, 36, kernel_size=(5, 5), stride=(2, 2))\n    (conv3): Conv2d(36, 48, kernel_size=(5, 5), stride=(2, 2))\n    (conv4): Conv2d(48, 64, kernel_size=(3, 3), stride=(1, 1))\n    (fc1): Linear(in_features=7744, out_features=100, bias=True)\n    (fc2): Linear(in_features=100, out_features=30, bias=True)\n    (fc3): Linear(in_features=30, out_features=1, bias=True)\n  )\n)"
     },
     "execution_count": 222,
     "metadata": {},
     "output_type": "execute_result"
    }
   ],
   "source": [
    "from train.model import BabyHamiltonModel\n",
    "model = BabyHamiltonModel()\n",
    "\n",
    "best_model_path = './lightning/checkpoints/epoch=18-step=2926.ckpt'\n",
    "\n",
    "from train.lightning_model import LightningBabyHamiltonModel\n",
    "lightning_model = LightningBabyHamiltonModel.load_from_checkpoint(\n",
    "    best_model_path,\n",
    "    model=model\n",
    ")\n",
    "\n",
    "lightning_model.eval()"
   ],
   "metadata": {
    "collapsed": false,
    "ExecuteTime": {
     "end_time": "2023-05-14T09:28:16.335908600Z",
     "start_time": "2023-05-14T09:28:16.258349500Z"
    }
   }
  },
  {
   "cell_type": "markdown",
   "source": [
    "# Pick Random Sample"
   ],
   "metadata": {
    "collapsed": false
   }
  },
  {
   "cell_type": "code",
   "execution_count": 223,
   "outputs": [
    {
     "data": {
      "text/plain": "                                 center                              left  \\\n496  center_2019_04_02_19_33_34_764.jpg  left_2019_04_02_19_33_34_764.jpg   \n\n                                 right  steering_angle  \n496  right_2019_04_02_19_33_34_764.jpg            -0.4  ",
      "text/html": "<div>\n<style scoped>\n    .dataframe tbody tr th:only-of-type {\n        vertical-align: middle;\n    }\n\n    .dataframe tbody tr th {\n        vertical-align: top;\n    }\n\n    .dataframe thead th {\n        text-align: right;\n    }\n</style>\n<table border=\"1\" class=\"dataframe\">\n  <thead>\n    <tr style=\"text-align: right;\">\n      <th></th>\n      <th>center</th>\n      <th>left</th>\n      <th>right</th>\n      <th>steering_angle</th>\n    </tr>\n  </thead>\n  <tbody>\n    <tr>\n      <th>496</th>\n      <td>center_2019_04_02_19_33_34_764.jpg</td>\n      <td>left_2019_04_02_19_33_34_764.jpg</td>\n      <td>right_2019_04_02_19_33_34_764.jpg</td>\n      <td>-0.4</td>\n    </tr>\n  </tbody>\n</table>\n</div>"
     },
     "execution_count": 223,
     "metadata": {},
     "output_type": "execute_result"
    }
   ],
   "source": [
    "from utils.utils import read_preprocessed_driving_csv\n",
    "test_samples = read_preprocessed_driving_csv(\"./data/preprocessed/driving_test_log.csv\")\n",
    "sample = test_samples.sample()\n",
    "sample"
   ],
   "metadata": {
    "collapsed": false,
    "ExecuteTime": {
     "end_time": "2023-05-14T09:28:16.349969Z",
     "start_time": "2023-05-14T09:28:16.336911900Z"
    }
   }
  },
  {
   "cell_type": "code",
   "execution_count": 224,
   "outputs": [],
   "source": [
    "test_folder_path = \"./data/preprocessed/test/\"\n",
    "image_name = sample.iloc[0]['center']\n",
    "random_image_path = test_folder_path + image_name"
   ],
   "metadata": {
    "collapsed": false,
    "ExecuteTime": {
     "end_time": "2023-05-14T09:28:16.394190800Z",
     "start_time": "2023-05-14T09:28:16.350965100Z"
    }
   }
  },
  {
   "cell_type": "markdown",
   "source": [
    "# Read and Preprocess Image"
   ],
   "metadata": {
    "collapsed": false
   }
  },
  {
   "cell_type": "code",
   "execution_count": 225,
   "outputs": [],
   "source": [
    "from torchvision.io import read_image\n",
    "# from utils import preprocess\n",
    "\n",
    "image = read_image(random_image_path)"
   ],
   "metadata": {
    "collapsed": false,
    "ExecuteTime": {
     "end_time": "2023-05-14T09:28:16.440739700Z",
     "start_time": "2023-05-14T09:28:16.366120600Z"
    }
   }
  },
  {
   "cell_type": "code",
   "execution_count": 226,
   "outputs": [
    {
     "data": {
      "text/plain": "torch.Size([3, 128, 128])"
     },
     "execution_count": 226,
     "metadata": {},
     "output_type": "execute_result"
    }
   ],
   "source": [
    "# image = preprocess(image)\n",
    "image = image.float()\n",
    "image.size()"
   ],
   "metadata": {
    "collapsed": false,
    "ExecuteTime": {
     "end_time": "2023-05-14T09:28:16.464767800Z",
     "start_time": "2023-05-14T09:28:16.384153100Z"
    }
   }
  },
  {
   "cell_type": "markdown",
   "source": [
    "# Predict"
   ],
   "metadata": {
    "collapsed": false
   }
  },
  {
   "cell_type": "code",
   "execution_count": 227,
   "outputs": [
    {
     "name": "stdout",
     "output_type": "stream",
     "text": [
      "tensor(-0.0166, device='cuda:0')\n"
     ]
    }
   ],
   "source": [
    "with torch.inference_mode():\n",
    "    x = test_transform(image)\n",
    "    x = x.view(-1, 3, 128, 128)\n",
    "    x = x.to(device)\n",
    "    steering_angle_hat = lightning_model(x)\n",
    "    print(steering_angle_hat)"
   ],
   "metadata": {
    "collapsed": false,
    "ExecuteTime": {
     "end_time": "2023-05-14T09:28:16.465767700Z",
     "start_time": "2023-05-14T09:28:16.400190800Z"
    }
   }
  },
  {
   "cell_type": "code",
   "execution_count": 228,
   "outputs": [
    {
     "data": {
      "text/plain": "496   -0.4\nName: steering_angle, dtype: float64"
     },
     "execution_count": 228,
     "metadata": {},
     "output_type": "execute_result"
    }
   ],
   "source": [
    "sample['steering_angle']"
   ],
   "metadata": {
    "collapsed": false,
    "ExecuteTime": {
     "end_time": "2023-05-14T09:28:16.550857800Z",
     "start_time": "2023-05-14T09:28:16.415218400Z"
    }
   }
  },
  {
   "cell_type": "code",
   "execution_count": 229,
   "outputs": [
    {
     "data": {
      "text/plain": "<PIL.Image.Image image mode=RGB size=128x128>",
      "image/png": "[encoded data removed]"
     },
     "execution_count": 229,
     "metadata": {},
     "output_type": "execute_result"
    }
   ],
   "source": [
    "T.ToPILImage()(image)"
   ],
   "metadata": {
    "collapsed": false,
    "ExecuteTime": {
     "end_time": "2023-05-14T09:28:16.572877600Z",
     "start_time": "2023-05-14T09:28:16.429731700Z"
    }
   }
  }
 ],
 "metadata": {
  "kernelspec": {
   "display_name": "Python 3",
   "language": "python",
   "name": "python3"
  },
  "language_info": {
   "codemirror_mode": {
    "name": "ipython",
    "version": 2
   },
   "file_extension": ".py",
   "mimetype": "text/x-python",
   "name": "python",
   "nbconvert_exporter": "python",
   "pygments_lexer": "ipython2",
   "version": "2.7.6"
  }
 },
 "nbformat": 4,
 "nbformat_minor": 0
}
